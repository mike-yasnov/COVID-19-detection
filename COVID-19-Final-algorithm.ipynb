{
 "cells": [
  {
   "cell_type": "code",
   "execution_count": 4,
   "metadata": {},
   "outputs": [],
   "source": [
    "import pandas as pd\n",
    "import numpy as np\n",
    "from xgboost import XGBClassifier\n",
    "from catboost import CatBoostClassifier"
   ]
  },
  {
   "cell_type": "code",
   "execution_count": 2,
   "metadata": {},
   "outputs": [],
   "source": [
    "test_data = np.array(pd.read_csv('for_predictions.csv'))"
   ]
  },
  {
   "cell_type": "code",
   "execution_count": 7,
   "metadata": {},
   "outputs": [],
   "source": [
    "def predictor(data):\n",
    "    covid_model = CatBoostClassifier().load_model('covid_model')\n",
    "    covid_stages_model = CatBoostClassifier().load_model('covid_stage_model')\n",
    "    prediction1 = covid_model.predict(data)\n",
    "    if prediction1 == 0:\n",
    "        prediction2 = covid_stages_model.predict(data)\n",
    "        if prediction2 == 1:\n",
    "            print('Тест положительный. Слабое повреждение лёгких.')\n",
    "        elif prediction2 == 2:\n",
    "            print('Тест положительный. Среднее повреждение лёгких.')\n",
    "        elif prediction2 == 3:\n",
    "            print('Тест положительный. Критическое повреждение лёгких.')\n",
    "    else:\n",
    "        print('Тест отрицательный.')"
   ]
  },
  {
   "cell_type": "code",
   "execution_count": 8,
   "metadata": {},
   "outputs": [
    {
     "name": "stdout",
     "output_type": "stream",
     "text": [
      "Тест положительный. Критическое повреждение лёгких.\n",
      "\n",
      "Тест положительный. Слабое повреждение лёгких.\n",
      "\n",
      "Тест положительный. Слабое повреждение лёгких.\n",
      "\n",
      "Тест положительный. Слабое повреждение лёгких.\n",
      "\n",
      "Тест положительный. Слабое повреждение лёгких.\n",
      "\n",
      "Тест положительный. Слабое повреждение лёгких.\n",
      "\n",
      "Тест положительный. Критическое повреждение лёгких.\n",
      "\n",
      "Тест положительный. Критическое повреждение лёгких.\n",
      "\n",
      "Тест положительный. Критическое повреждение лёгких.\n",
      "\n",
      "Тест положительный. Слабое повреждение лёгких.\n",
      "\n",
      "Тест положительный. Критическое повреждение лёгких.\n",
      "\n",
      "Тест положительный. Критическое повреждение лёгких.\n",
      "\n",
      "Тест положительный. Критическое повреждение лёгких.\n",
      "\n",
      "Тест положительный. Среднее повреждение лёгких.\n",
      "\n",
      "Тест положительный. Среднее повреждение лёгких.\n",
      "\n",
      "Тест положительный. Среднее повреждение лёгких.\n",
      "\n",
      "Тест положительный. Критическое повреждение лёгких.\n",
      "\n",
      "Тест положительный. Слабое повреждение лёгких.\n",
      "\n",
      "Тест положительный. Слабое повреждение лёгких.\n",
      "\n",
      "Тест положительный. Слабое повреждение лёгких.\n",
      "\n",
      "Тест положительный. Слабое повреждение лёгких.\n",
      "\n",
      "Тест положительный. Критическое повреждение лёгких.\n",
      "\n",
      "Тест положительный. Критическое повреждение лёгких.\n",
      "\n",
      "Тест положительный. Слабое повреждение лёгких.\n",
      "\n"
     ]
    }
   ],
   "source": [
    "for i in range(len(test_data)):\n",
    "    predictor(test_data[i])\n",
    "    print()"
   ]
  },
  {
   "cell_type": "code",
   "execution_count": null,
   "metadata": {},
   "outputs": [],
   "source": []
  }
 ],
 "metadata": {
  "kernelspec": {
   "display_name": "Python 3",
   "language": "python",
   "name": "python3"
  },
  "language_info": {
   "codemirror_mode": {
    "name": "ipython",
    "version": 3
   },
   "file_extension": ".py",
   "mimetype": "text/x-python",
   "name": "python",
   "nbconvert_exporter": "python",
   "pygments_lexer": "ipython3",
   "version": "3.7.3"
  }
 },
 "nbformat": 4,
 "nbformat_minor": 2
}
